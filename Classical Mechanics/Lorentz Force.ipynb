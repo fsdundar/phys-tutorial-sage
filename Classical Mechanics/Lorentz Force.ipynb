{
 "cells": [
  {
   "cell_type": "markdown",
   "metadata": {},
   "source": [
    "<b>Author:</b> Furkan Semih Dündar, May 2020. <b>License:</b> GPL 3.0"
   ]
  },
  {
   "cell_type": "markdown",
   "metadata": {},
   "source": [
    "Lorentz force is the force acted upon a charged particle under electrical and magnetic fields. It is given by:\n",
    "\n",
    "$$\n",
    "\\vec{F} = q(\\vec E + \\vec v \\times \\vec B).\n",
    "$$\n",
    "\n",
    "If there is no force rather than the Lorentz force we can write the following equation of motion due to Newton's second law:\n",
    "\n",
    "$$\n",
    "m\\vec a = q(\\vec E + \\vec v \\times \\vec B).\n",
    "$$"
   ]
  },
  {
   "cell_type": "markdown",
   "metadata": {},
   "source": [
    "Let us define the time, mass and charge parameters."
   ]
  },
  {
   "cell_type": "code",
   "execution_count": 1,
   "metadata": {},
   "outputs": [],
   "source": [
    "t = var('t')\n",
    "m = var('m')\n",
    "q = var('q')"
   ]
  },
  {
   "cell_type": "markdown",
   "metadata": {},
   "source": [
    "We now define components of the position vector."
   ]
  },
  {
   "cell_type": "code",
   "execution_count": 2,
   "metadata": {},
   "outputs": [],
   "source": [
    "x = function('x')(t)\n",
    "y = function('y')(t)\n",
    "z = function('z')(t)"
   ]
  },
  {
   "cell_type": "markdown",
   "metadata": {},
   "source": [
    "This is the position vector $\\vec x$."
   ]
  },
  {
   "cell_type": "code",
   "execution_count": 3,
   "metadata": {},
   "outputs": [],
   "source": [
    "xvec = vector([x(t), y(t), z(t)])"
   ]
  },
  {
   "cell_type": "markdown",
   "metadata": {},
   "source": [
    "These are the electric and magnetic vector fields."
   ]
  },
  {
   "cell_type": "code",
   "execution_count": 4,
   "metadata": {},
   "outputs": [],
   "source": [
    "Ex = function('E_x')(x,y,z)\n",
    "Ey = function('E_y')(x,y,z)\n",
    "Ez = function('E_z')(x,y,z)"
   ]
  },
  {
   "cell_type": "code",
   "execution_count": 5,
   "metadata": {},
   "outputs": [],
   "source": [
    "Evec = vector([Ex, Ey, Ez])"
   ]
  },
  {
   "cell_type": "code",
   "execution_count": 6,
   "metadata": {},
   "outputs": [],
   "source": [
    "Bx = function('B_x')(x,y,z)\n",
    "By = function('B_y')(x,y,z)\n",
    "Bz = function('B_z')(x,y,z)"
   ]
  },
  {
   "cell_type": "code",
   "execution_count": 7,
   "metadata": {},
   "outputs": [],
   "source": [
    "Bvec = vector([Bx, By, Bz])"
   ]
  },
  {
   "cell_type": "markdown",
   "metadata": {},
   "source": [
    "The equation of motion is the following (eomx = 0, eomy = 0, eomz = 0):"
   ]
  },
  {
   "cell_type": "code",
   "execution_count": 8,
   "metadata": {},
   "outputs": [],
   "source": [
    "eomx, eomy, eomz = m*diff(xvec, t, 2) - q*(Evec + diff(xvec,t).cross_product(Bvec))"
   ]
  },
  {
   "cell_type": "code",
   "execution_count": 9,
   "metadata": {},
   "outputs": [
    {
     "data": {
      "text/html": [
       "<html><script type=\"math/tex; mode=display\">\\newcommand{\\Bold}[1]{\\mathbf{#1}}-{\\left(B_{z}\\left(x\\left(t\\right), y\\left(t\\right), z\\left(t\\right)\\right) \\frac{\\partial}{\\partial t}y\\left(t\\right) - B_{y}\\left(x\\left(t\\right), y\\left(t\\right), z\\left(t\\right)\\right) \\frac{\\partial}{\\partial t}z\\left(t\\right) + E_{x}\\left(x\\left(t\\right), y\\left(t\\right), z\\left(t\\right)\\right)\\right)} q + m \\frac{\\partial^{2}}{(\\partial t)^{2}}x\\left(t\\right)</script></html>"
      ],
      "text/plain": [
       "-(B_z(x(t), y(t), z(t))*diff(y(t), t) - B_y(x(t), y(t), z(t))*diff(z(t), t) + E_x(x(t), y(t), z(t)))*q + m*diff(x(t), t, t)"
      ]
     },
     "metadata": {},
     "output_type": "display_data"
    }
   ],
   "source": [
    "eomx.show()"
   ]
  },
  {
   "cell_type": "code",
   "execution_count": 10,
   "metadata": {},
   "outputs": [
    {
     "data": {
      "text/html": [
       "<html><script type=\"math/tex; mode=display\">\\newcommand{\\Bold}[1]{\\mathbf{#1}}{\\left(B_{z}\\left(x\\left(t\\right), y\\left(t\\right), z\\left(t\\right)\\right) \\frac{\\partial}{\\partial t}x\\left(t\\right) - B_{x}\\left(x\\left(t\\right), y\\left(t\\right), z\\left(t\\right)\\right) \\frac{\\partial}{\\partial t}z\\left(t\\right) - E_{y}\\left(x\\left(t\\right), y\\left(t\\right), z\\left(t\\right)\\right)\\right)} q + m \\frac{\\partial^{2}}{(\\partial t)^{2}}y\\left(t\\right)</script></html>"
      ],
      "text/plain": [
       "(B_z(x(t), y(t), z(t))*diff(x(t), t) - B_x(x(t), y(t), z(t))*diff(z(t), t) - E_y(x(t), y(t), z(t)))*q + m*diff(y(t), t, t)"
      ]
     },
     "metadata": {},
     "output_type": "display_data"
    }
   ],
   "source": [
    "eomy.show()"
   ]
  },
  {
   "cell_type": "code",
   "execution_count": 11,
   "metadata": {},
   "outputs": [
    {
     "data": {
      "text/html": [
       "<html><script type=\"math/tex; mode=display\">\\newcommand{\\Bold}[1]{\\mathbf{#1}}-{\\left(B_{y}\\left(x\\left(t\\right), y\\left(t\\right), z\\left(t\\right)\\right) \\frac{\\partial}{\\partial t}x\\left(t\\right) - B_{x}\\left(x\\left(t\\right), y\\left(t\\right), z\\left(t\\right)\\right) \\frac{\\partial}{\\partial t}y\\left(t\\right) + E_{z}\\left(x\\left(t\\right), y\\left(t\\right), z\\left(t\\right)\\right)\\right)} q + m \\frac{\\partial^{2}}{(\\partial t)^{2}}z\\left(t\\right)</script></html>"
      ],
      "text/plain": [
       "-(B_y(x(t), y(t), z(t))*diff(x(t), t) - B_x(x(t), y(t), z(t))*diff(y(t), t) + E_z(x(t), y(t), z(t)))*q + m*diff(z(t), t, t)"
      ]
     },
     "metadata": {},
     "output_type": "display_data"
    }
   ],
   "source": [
    "eomz.show()"
   ]
  },
  {
   "cell_type": "markdown",
   "metadata": {},
   "source": [
    "Let us now consider static electric and magnetic fields:"
   ]
  },
  {
   "cell_type": "code",
   "execution_count": 12,
   "metadata": {},
   "outputs": [],
   "source": [
    "Ex = var('E')\n",
    "Ey = 0\n",
    "Ez = 0"
   ]
  },
  {
   "cell_type": "code",
   "execution_count": 13,
   "metadata": {},
   "outputs": [],
   "source": [
    "Bx = 0\n",
    "By = 0\n",
    "Bz = var('B')"
   ]
  },
  {
   "cell_type": "code",
   "execution_count": 14,
   "metadata": {},
   "outputs": [],
   "source": [
    "Evec = vector([Ex, Ey, Ez])\n",
    "Bvec = vector([Bx, By, Bz])\n",
    "eomx, eomy, eomz = m*diff(xvec, t, 2) - q*(Evec + diff(xvec,t).cross_product(Bvec))"
   ]
  },
  {
   "cell_type": "code",
   "execution_count": 15,
   "metadata": {},
   "outputs": [
    {
     "data": {
      "text/html": [
       "<html><script type=\"math/tex; mode=display\">\\newcommand{\\Bold}[1]{\\mathbf{#1}}-{\\left(B \\frac{\\partial}{\\partial t}y\\left(t\\right) + E\\right)} q + m \\frac{\\partial^{2}}{(\\partial t)^{2}}x\\left(t\\right)</script></html>"
      ],
      "text/plain": [
       "-(B*diff(y(t), t) + E)*q + m*diff(x(t), t, t)"
      ]
     },
     "metadata": {},
     "output_type": "display_data"
    }
   ],
   "source": [
    "eomx.show()"
   ]
  },
  {
   "cell_type": "code",
   "execution_count": 16,
   "metadata": {},
   "outputs": [
    {
     "data": {
      "text/html": [
       "<html><script type=\"math/tex; mode=display\">\\newcommand{\\Bold}[1]{\\mathbf{#1}}B q \\frac{\\partial}{\\partial t}x\\left(t\\right) + m \\frac{\\partial^{2}}{(\\partial t)^{2}}y\\left(t\\right)</script></html>"
      ],
      "text/plain": [
       "B*q*diff(x(t), t) + m*diff(y(t), t, t)"
      ]
     },
     "metadata": {},
     "output_type": "display_data"
    }
   ],
   "source": [
    "eomy.show()"
   ]
  },
  {
   "cell_type": "code",
   "execution_count": 17,
   "metadata": {},
   "outputs": [
    {
     "data": {
      "text/html": [
       "<html><script type=\"math/tex; mode=display\">\\newcommand{\\Bold}[1]{\\mathbf{#1}}m \\frac{\\partial^{2}}{(\\partial t)^{2}}z\\left(t\\right)</script></html>"
      ],
      "text/plain": [
       "m*diff(z(t), t, t)"
      ]
     },
     "metadata": {},
     "output_type": "display_data"
    }
   ],
   "source": [
    "eomz.show()"
   ]
  },
  {
   "cell_type": "markdown",
   "metadata": {},
   "source": [
    "In order to solve this system of equations of motions, we need to make some assumptions. You can change them as you wish."
   ]
  },
  {
   "cell_type": "code",
   "execution_count": 18,
   "metadata": {},
   "outputs": [],
   "source": [
    "assume(m > 0)\n",
    "assume(E > 0)\n",
    "assume(B > 0)\n",
    "assume(q > 0)\n",
    "sol = desolve_system([eomx, eomy, eomz], [x,y,z], ivar=t)"
   ]
  },
  {
   "cell_type": "code",
   "execution_count": 19,
   "metadata": {},
   "outputs": [
    {
     "data": {
      "text/html": [
       "<html><script type=\"math/tex; mode=display\">\\newcommand{\\Bold}[1]{\\mathbf{#1}}x\\left(t\\right) = \\frac{\\frac{m^{3} \\sin\\left(\\frac{B q t}{m}\\right) \\mathrm{D}_{0}\\left(x\\right)\\left(0\\right)}{B q} - \\frac{{\\left(B m^{3} \\mathrm{D}_{0}\\left(y\\right)\\left(0\\right) + E m^{3}\\right)} \\cos\\left(\\frac{B q t}{m}\\right)}{B^{2} q}}{m^{2}} + \\frac{B^{2} q x\\left(0\\right) + B m \\mathrm{D}_{0}\\left(y\\right)\\left(0\\right) + E m}{B^{2} q}</script></html>"
      ],
      "text/plain": [
       "x(t) == (m^3*sin(B*q*t/m)*D[0](x)(0)/(B*q) - (B*m^3*D[0](y)(0) + E*m^3)*cos(B*q*t/m)/(B^2*q))/m^2 + (B^2*q*x(0) + B*m*D[0](y)(0) + E*m)/(B^2*q)"
      ]
     },
     "metadata": {},
     "output_type": "display_data"
    },
    {
     "data": {
      "text/html": [
       "<html><script type=\"math/tex; mode=display\">\\newcommand{\\Bold}[1]{\\mathbf{#1}}y\\left(t\\right) = -\\frac{E t}{B} + \\frac{\\frac{m^{3} \\cos\\left(\\frac{B q t}{m}\\right) \\mathrm{D}_{0}\\left(x\\right)\\left(0\\right)}{B q} + \\frac{{\\left(B m^{2} \\mathrm{D}_{0}\\left(y\\right)\\left(0\\right) + E m^{2}\\right)} m \\sin\\left(\\frac{B q t}{m}\\right)}{B^{2} q}}{m^{2}} + \\frac{B q y\\left(0\\right) - m \\mathrm{D}_{0}\\left(x\\right)\\left(0\\right)}{B q}</script></html>"
      ],
      "text/plain": [
       "y(t) == -E*t/B + (m^3*cos(B*q*t/m)*D[0](x)(0)/(B*q) + (B*m^2*D[0](y)(0) + E*m^2)*m*sin(B*q*t/m)/(B^2*q))/m^2 + (B*q*y(0) - m*D[0](x)(0))/(B*q)"
      ]
     },
     "metadata": {},
     "output_type": "display_data"
    },
    {
     "data": {
      "text/html": [
       "<html><script type=\"math/tex; mode=display\">\\newcommand{\\Bold}[1]{\\mathbf{#1}}z\\left(t\\right) = t \\mathrm{D}_{0}\\left(z\\right)\\left(0\\right) + z\\left(0\\right)</script></html>"
      ],
      "text/plain": [
       "z(t) == t*D[0](z)(0) + z(0)"
      ]
     },
     "metadata": {},
     "output_type": "display_data"
    }
   ],
   "source": [
    "for s in sol:\n",
    "    s.show()"
   ]
  },
  {
   "cell_type": "code",
   "execution_count": null,
   "metadata": {},
   "outputs": [],
   "source": []
  }
 ],
 "metadata": {
  "kernelspec": {
   "display_name": "SageMath 9.0",
   "language": "sage",
   "name": "sagemath"
  },
  "language_info": {
   "codemirror_mode": {
    "name": "ipython",
    "version": 3
   },
   "file_extension": ".py",
   "mimetype": "text/x-python",
   "name": "python",
   "nbconvert_exporter": "python",
   "pygments_lexer": "ipython3",
   "version": "3.7.3"
  }
 },
 "nbformat": 4,
 "nbformat_minor": 2
}
