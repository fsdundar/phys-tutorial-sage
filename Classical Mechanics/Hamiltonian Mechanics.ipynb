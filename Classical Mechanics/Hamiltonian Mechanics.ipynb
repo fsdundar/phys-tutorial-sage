{
 "cells": [
  {
   "cell_type": "markdown",
   "metadata": {},
   "source": [
    "<b>Author:</b> Furkan Semih Dündar, May 2020. <b>License:</b> GPL 3.0"
   ]
  },
  {
   "cell_type": "markdown",
   "metadata": {},
   "source": [
    "A Hamiltonian, $H$, is a function of generalized coordinates and corresponding conjugate momenta."
   ]
  },
  {
   "cell_type": "markdown",
   "metadata": {},
   "source": [
    "Let Q and P be the generalized coordinate and conjugate momentum. Let us first down a symbolic expression for the Hamiltonian in case of harmonic oscillator potential."
   ]
  },
  {
   "cell_type": "code",
   "execution_count": 8,
   "metadata": {},
   "outputs": [],
   "source": [
    "Q, P = var('Q P')\n",
    "m, omega = var('m omega')\n",
    "H = (1/(2*m))*P^2 + (1/2)*m*omega^2*Q^2"
   ]
  },
  {
   "cell_type": "markdown",
   "metadata": {},
   "source": [
    "We will replace Q with $q(t)$ and P with $p(t)$ after we take the symbolic derivatives."
   ]
  },
  {
   "cell_type": "code",
   "execution_count": 9,
   "metadata": {},
   "outputs": [
    {
     "data": {
      "text/html": [
       "<html><script type=\"math/tex; mode=display\">\\newcommand{\\Bold}[1]{\\mathbf{#1}}\\frac{1}{2} \\, Q^{2} m \\omega^{2} + \\frac{P^{2}}{2 \\, m}</script></html>"
      ],
      "text/plain": [
       "1/2*Q^2*m*omega^2 + 1/2*P^2/m"
      ]
     },
     "metadata": {},
     "output_type": "display_data"
    }
   ],
   "source": [
    "H.show()"
   ]
  },
  {
   "cell_type": "markdown",
   "metadata": {},
   "source": [
    "The Hamilton equations of motion are given by the following expression:\n",
    "\n",
    "$$\n",
    "\\dot q = \\frac{\\partial H}{\\partial p},\\quad \\dot p = - \\frac{\\partial H}{\\partial q}.\n",
    "$$"
   ]
  },
  {
   "cell_type": "markdown",
   "metadata": {},
   "source": [
    "By eom1 and eom2 let us denote the two equations of motion. For that purpose we define functions $q(t),p(t)$:"
   ]
  },
  {
   "cell_type": "code",
   "execution_count": 10,
   "metadata": {},
   "outputs": [],
   "source": [
    "t = var('t')\n",
    "q = function('q')(t)\n",
    "p = function('p')(t)"
   ]
  },
  {
   "cell_type": "code",
   "execution_count": 13,
   "metadata": {},
   "outputs": [],
   "source": [
    "eom1 = diff(q,t) == diff(H,P).subs([P == p(t), Q == q(t)])"
   ]
  },
  {
   "cell_type": "code",
   "execution_count": 14,
   "metadata": {},
   "outputs": [
    {
     "data": {
      "text/html": [
       "<html><script type=\"math/tex; mode=display\">\\newcommand{\\Bold}[1]{\\mathbf{#1}}\\frac{\\partial}{\\partial t}q\\left(t\\right) = \\frac{p\\left(t\\right)}{m}</script></html>"
      ],
      "text/plain": [
       "diff(q(t), t) == p(t)/m"
      ]
     },
     "metadata": {},
     "output_type": "display_data"
    }
   ],
   "source": [
    "eom1.show()"
   ]
  },
  {
   "cell_type": "code",
   "execution_count": 15,
   "metadata": {},
   "outputs": [],
   "source": [
    "eom2 = diff(p,t) == -diff(H,Q).subs([P == p(t), Q == q(t)])"
   ]
  },
  {
   "cell_type": "code",
   "execution_count": 16,
   "metadata": {},
   "outputs": [
    {
     "data": {
      "text/html": [
       "<html><script type=\"math/tex; mode=display\">\\newcommand{\\Bold}[1]{\\mathbf{#1}}\\frac{\\partial}{\\partial t}p\\left(t\\right) = -m \\omega^{2} q\\left(t\\right)</script></html>"
      ],
      "text/plain": [
       "diff(p(t), t) == -m*omega^2*q(t)"
      ]
     },
     "metadata": {},
     "output_type": "display_data"
    }
   ],
   "source": [
    "eom2.show()"
   ]
  },
  {
   "cell_type": "code",
   "execution_count": 25,
   "metadata": {},
   "outputs": [],
   "source": [
    "assume(omega > 0)\n",
    "sol = desolve_system([eom1, eom2], [q, p], ivar=t)"
   ]
  },
  {
   "cell_type": "code",
   "execution_count": 26,
   "metadata": {},
   "outputs": [
    {
     "data": {
      "text/html": [
       "<html><script type=\"math/tex; mode=display\">\\newcommand{\\Bold}[1]{\\mathbf{#1}}q\\left(t\\right) = \\cos\\left(\\omega t\\right) q\\left(0\\right) + \\frac{p\\left(0\\right) \\sin\\left(\\omega t\\right)}{m \\omega}</script></html>"
      ],
      "text/plain": [
       "q(t) == cos(omega*t)*q(0) + p(0)*sin(omega*t)/(m*omega)"
      ]
     },
     "metadata": {},
     "output_type": "display_data"
    },
    {
     "data": {
      "text/html": [
       "<html><script type=\"math/tex; mode=display\">\\newcommand{\\Bold}[1]{\\mathbf{#1}}p\\left(t\\right) = -m \\omega q\\left(0\\right) \\sin\\left(\\omega t\\right) + \\cos\\left(\\omega t\\right) p\\left(0\\right)</script></html>"
      ],
      "text/plain": [
       "p(t) == -m*omega*q(0)*sin(omega*t) + cos(omega*t)*p(0)"
      ]
     },
     "metadata": {},
     "output_type": "display_data"
    }
   ],
   "source": [
    "for s in sol:\n",
    "    s.show()"
   ]
  },
  {
   "cell_type": "code",
   "execution_count": null,
   "metadata": {},
   "outputs": [],
   "source": []
  }
 ],
 "metadata": {
  "kernelspec": {
   "display_name": "SageMath 9.0",
   "language": "sage",
   "name": "sagemath"
  },
  "language_info": {
   "codemirror_mode": {
    "name": "ipython",
    "version": 3
   },
   "file_extension": ".py",
   "mimetype": "text/x-python",
   "name": "python",
   "nbconvert_exporter": "python",
   "pygments_lexer": "ipython3",
   "version": "3.7.3"
  }
 },
 "nbformat": 4,
 "nbformat_minor": 2
}
